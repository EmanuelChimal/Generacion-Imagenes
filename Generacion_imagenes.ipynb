{
 "cells": [
  {
   "cell_type": "code",
   "execution_count": null,
   "metadata": {
    "vscode": {
     "languageId": "plaintext"
    }
   },
   "outputs": [],
   "source": [
    "# Instalar dependencias necesarias\n",
    "!pip install torch torchvision torchaudio\n",
    "!pip install diffusers\n",
    "!pip install transformers\n",
    "!pip install accelerate\n",
    "!pip install scipy\n",
    "!pip install safetensors\n",
    "\n",
    "#Autenticación en Hugging Face usando el token\n",
    "from huggingface_hub import login\n",
    "import os\n",
    "\n",
    "login(\"Aqui debería de ir el token\")  # Token hugging por seguridad no lo pongo\n",
    "\n",
    "# Importar librerías\n",
    "import torch\n",
    "from diffusers import StableDiffusionPipeline\n",
    "from IPython.display import display, Image\n",
    "\n",
    "# Carga del modelo de Stable Diffusion desde StabilityAI\n",
    "pipe = StableDiffusionPipeline.from_pretrained(\"stabilityai/stable-diffusion-2\", torch_dtype=torch.float16)\n",
    "pipe.to(\"cuda\")\n",
    "\n"
   ]
  }
 ],
 "metadata": {
  "language_info": {
   "name": "python"
  }
 },
 "nbformat": 4,
 "nbformat_minor": 2
}
