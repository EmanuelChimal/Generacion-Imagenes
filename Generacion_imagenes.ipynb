{
 "cells": [
  {
   "cell_type": "code",
   "execution_count": null,
   "metadata": {
    "vscode": {
     "languageId": "plaintext"
    }
   },
   "outputs": [],
   "source": [
    "# Instalar dependencias necesarias\n",
    "!pip install torch torchvision torchaudio\n",
    "!pip install diffusers\n",
    "!pip install transformers\n",
    "!pip install accelerate\n",
    "!pip install scipy\n",
    "!pip install safetensors\n",
    "\n"
   ]
  }
 ],
 "metadata": {
  "language_info": {
   "name": "python"
  }
 },
 "nbformat": 4,
 "nbformat_minor": 2
}
