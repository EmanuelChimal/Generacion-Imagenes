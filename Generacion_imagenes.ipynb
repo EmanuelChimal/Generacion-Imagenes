{
 "cells": [
  {
   "cell_type": "code",
   "execution_count": null,
   "metadata": {
    "vscode": {
     "languageId": "plaintext"
    }
   },
   "outputs": [],
   "source": [
    "# Instalar dependencias necesarias\n",
    "!pip install torch torchvision torchaudio\n",
    "!pip install diffusers\n",
    "!pip install transformers\n",
    "!pip install accelerate\n",
    "!pip install scipy\n",
    "!pip install safetensors\n",
    "\n",
    "#Autenticación en Hugging Face usando el token\n",
    "from huggingface_hub import login\n",
    "import os\n",
    "\n",
    "login(\"Aqui debería de ir el token\")  # Token hugging por seguridad no lo pongo\n",
    "\n",
    "# Importar librerías\n",
    "import torch\n",
    "from diffusers import StableDiffusionPipeline\n",
    "from IPython.display import display, Image\n",
    "\n",
    "# Carga del modelo de Stable Diffusion desde StabilityAI\n",
    "pipe = StableDiffusionPipeline.from_pretrained(\"stabilityai/stable-diffusion-2\", torch_dtype=torch.float16)\n",
    "pipe.to(\"cuda\")\n",
    "\n",
    "#Función para generar la imagen a partir del texto\n",
    "def generar_imagen(texto):\n",
    "    # Generar la imagen a partir del texto\n",
    "    image = pipe(texto).images[0]\n",
    "    \n",
    "    # Guardar la imagen generada (Como es colab no funciona)\n",
    "    image.save(\"imagen_generada.png\")\n",
    "    \n",
    "    # Mostrar imagen\n",
    "    display(image)\n",
    "\n",
    "# Descripción imagen a generar\n",
    "texto = \"Un celular con antena\"\n",
    "\n",
    "# Generar la imagen\n",
    "generar_imagen(texto)"
   ]
  }
 ],
 "metadata": {
  "language_info": {
   "name": "python"
  }
 },
 "nbformat": 4,
 "nbformat_minor": 2
}
